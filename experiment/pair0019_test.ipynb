{
 "cells": [
  {
   "cell_type": "markdown",
   "id": "cfd341c1",
   "metadata": {},
   "source": [
    "## pair0019: \n",
    "Old Faithful geyser data: Old Faithful is a hydrothermal geyser in Yellowstone National Park in the state of Wyoming, USA. \n"
   ]
  },
  {
   "cell_type": "code",
   "execution_count": null,
   "id": "f5a7829e",
   "metadata": {},
   "outputs": [],
   "source": [
    "import pandas as pd\n",
    "import seaborn as sns\n",
    "import matplotlib.pyplot as plt\n",
    "import numpy as np\n",
    "from diptest import diptest   "
   ]
  },
  {
   "cell_type": "code",
   "execution_count": null,
   "id": "2a519af2",
   "metadata": {},
   "outputs": [],
   "source": [
    "# Load dataset\n",
    "df = pd.read_csv('datasets/pair0019.txt', delimiter=' ', header=None, names=['duration of erruption', 'time to next erruption'])   "
   ]
  },
  {
   "cell_type": "code",
   "execution_count": null,
   "id": "a1b62d50",
   "metadata": {},
   "outputs": [],
   "source": [
    "# Display few rows of the dataset\n",
    "print(df.head())    "
   ]
  },
  {
   "cell_type": "code",
   "execution_count": null,
   "id": "c5f23945",
   "metadata": {},
   "outputs": [],
   "source": [
    "# Scatter Plot\n",
    "plt.scatter(df['duration of erruption'], df['time to next erruption'])\n",
    "plt.xlabel('duration of erruption')\n",
    "plt.ylabel('time to next erruption')\n",
    "plt.title('Scatter plot of duration of erruption vs time to next erruption')\n",
    "plt.show()"
   ]
  },
  {
   "cell_type": "code",
   "execution_count": null,
   "id": "c6da114f",
   "metadata": {},
   "outputs": [],
   "source": [
    "# Plot the distribution of the data in both directions (x and y)\n",
    "fig, axis = plt.subplots(1, 2, figsize=(16,6))\n",
    "\n",
    "# Plot for duration of erruption -> time to next erruption (X -> Y)\n",
    "sns.histplot(df['duration of erruption'], kde=True, ax=axis[0])\n",
    "axis[0].set_xlabel('duration of erruption')\n",
    "axis[0].set_ylabel('time to next erruption')\n",
    "axis[0].set_title('duration of erruption distribution with KDE')\n",
    "\n",
    "# Plot for duration of erruption -> time to next erruption (Y -> X)\n",
    "sns.histplot(df['time to next erruption'], kde=True, ax=axis[1])\n",
    "axis[1].set_xlabel('time to next erruption')\n",
    "axis[1].set_ylabel('duration of erruption')\n",
    "axis[1].set_title('time to next erruption distribution with KDE')\n",
    "\n",
    "# Adjust layout to set the title and labels\n",
    "plt.tight_layout()\n",
    "plt.show()  "
   ]
  },
  {
   "cell_type": "code",
   "execution_count": null,
   "id": "e12efcb3",
   "metadata": {},
   "outputs": [],
   "source": [
    "# Dip-Test for x and y\n",
    "dip_test, p_val = diptest(np.array(df['duration of erruption']))\n",
    "print(f\"Dip-Test (X -> Y): {dip_test}, p-value: {p_val}\")   \n",
    "dip_test, p_val = diptest(np.array(df['time to next erruption']))\n",
    "print(f\"Dip-Test (Y -> X): {dip_test}, p-value: {p_val}\")\n",
    "    "
   ]
  },
  {
   "cell_type": "markdown",
   "id": "7902fffa",
   "metadata": {},
   "source": [
    "### Findings:"
   ]
  }
 ],
 "metadata": {
  "language_info": {
   "name": "python"
  }
 },
 "nbformat": 4,
 "nbformat_minor": 5
}
