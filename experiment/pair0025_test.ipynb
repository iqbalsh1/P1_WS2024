{
 "cells": [
  {
   "cell_type": "markdown",
   "id": "805206ac",
   "metadata": {},
   "source": [
    "## pair0025: \n",
    "Concrete Compressive Strength "
   ]
  },
  {
   "cell_type": "code",
   "execution_count": null,
   "id": "b0355f7a",
   "metadata": {},
   "outputs": [],
   "source": [
    "import pandas as pd\n",
    "import seaborn as sns\n",
    "import matplotlib.pyplot as plt\n",
    "import numpy as np\n",
    "from diptest import diptest "
   ]
  },
  {
   "cell_type": "code",
   "execution_count": null,
   "id": "33a7e0c0",
   "metadata": {},
   "outputs": [],
   "source": [
    "# Load dataset\n",
    "df = pd.read_csv('datasets/pair0025.txt', delimiter=' ', header=None, names=['cement', 'compressive strength'])    "
   ]
  },
  {
   "cell_type": "code",
   "execution_count": null,
   "id": "ed2f69ca",
   "metadata": {},
   "outputs": [],
   "source": [
    "# Display few rows of the dataset\n",
    "print(df.head())   "
   ]
  },
  {
   "cell_type": "code",
   "execution_count": null,
   "id": "57c49e74",
   "metadata": {},
   "outputs": [],
   "source": [
    "# Scatter Plot\n",
    "plt.scatter(df['cement'], df['compressive strength'])\n",
    "plt.xlabel('cement')\n",
    "plt.ylabel('compressive strength')\n",
    "plt.title('Scatter plot of cement vs compressive strength')\n",
    "plt.show()   "
   ]
  },
  {
   "cell_type": "code",
   "execution_count": null,
   "id": "8bc41f70",
   "metadata": {},
   "outputs": [],
   "source": [
    "# Plot the distribution of the data in both directions (x and y)\n",
    "fig, axis = plt.subplots(1, 2, figsize=(16,6))\n",
    "\n",
    "# Plot for cement -> compressive strength (X -> Y)\n",
    "sns.histplot(df['cement'], kde=True, ax=axis[0])\n",
    "axis[0].set_xlabel('cement')\n",
    "axis[0].set_ylabel('compressive strength')\n",
    "axis[0].set_title('cement distribution with KDE')\n",
    "\n",
    "# Plot for cement -> compressive strength (Y -> X)\n",
    "sns.histplot(df['compressive strength'], kde=True, ax=axis[1])\n",
    "axis[1].set_xlabel('compressive strength')\n",
    "axis[1].set_ylabel('cement')\n",
    "axis[1].set_title('compressive strength distribution with KDE')\n",
    "\n",
    "# Adjust layout to set the title and labels\n",
    "plt.tight_layout()\n",
    "plt.show()    "
   ]
  },
  {
   "cell_type": "code",
   "execution_count": null,
   "id": "536c4586",
   "metadata": {},
   "outputs": [],
   "source": [
    "# Dip-Test for x and y\n",
    "dip_test, p_val = diptest(np.array(df['cement']))\n",
    "print(f\"Dip-Test (X -> Y): {dip_test}, p-value: {p_val}\")   \n",
    "dip_test, p_val = diptest(np.array(df['compressive strength']))\n",
    "print(f\"Dip-Test (Y -> X): {dip_test}, p-value: {p_val}\")\n",
    "    "
   ]
  },
  {
   "cell_type": "markdown",
   "id": "71a08558",
   "metadata": {},
   "source": [
    "### Findings:"
   ]
  }
 ],
 "metadata": {
  "language_info": {
   "name": "python"
  }
 },
 "nbformat": 4,
 "nbformat_minor": 5
}
