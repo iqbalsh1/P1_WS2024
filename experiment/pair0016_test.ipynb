{
 "cells": [
  {
   "cell_type": "markdown",
   "id": "fedb14eb",
   "metadata": {},
   "source": [
    "## pair0016: \n",
    "Auto-Mpg Data: city-cycle fuel consumption in miles per gallon"
   ]
  },
  {
   "cell_type": "code",
   "execution_count": null,
   "id": "4867679a",
   "metadata": {},
   "outputs": [],
   "source": [
    "import pandas as pd\n",
    "import seaborn as sns\n",
    "import matplotlib.pyplot as plt\n",
    "import numpy as np\n",
    "from diptest import diptest  "
   ]
  },
  {
   "cell_type": "code",
   "execution_count": null,
   "id": "3248a2fa",
   "metadata": {},
   "outputs": [],
   "source": [
    "# Load dataset\n",
    "df = pd.read_csv('datasets/pair0016.txt', delimiter=' ', header=None, names=['horsepower', 'acceleration'])"
   ]
  },
  {
   "cell_type": "code",
   "execution_count": null,
   "id": "2e0e0374",
   "metadata": {},
   "outputs": [],
   "source": [
    "# Display few rows of the dataset\n",
    "print(df.head())   "
   ]
  },
  {
   "cell_type": "code",
   "execution_count": null,
   "id": "c61fb0c3",
   "metadata": {},
   "outputs": [],
   "source": [
    "# Scatter Plot\n",
    "plt.scatter(df['horsepower'], df['acceleration'])\n",
    "plt.xlabel('horsepower')\n",
    "plt.ylabel('acceleration')\n",
    "plt.title('Scatter plot of horsepower vs acceleration')\n",
    "plt.show()    "
   ]
  },
  {
   "cell_type": "code",
   "execution_count": null,
   "id": "c95f300f",
   "metadata": {},
   "outputs": [],
   "source": [
    "# Plot the distribution of the data in both directions (x and y)\n",
    "fig, axis = plt.subplots(1, 2, figsize=(16,6))\n",
    "\n",
    "# Plot for horsepower -> acceleration (X -> Y)\n",
    "sns.histplot(df['horsepower'], kde=True, ax=axis[0])\n",
    "axis[0].set_xlabel('horsepower')\n",
    "axis[0].set_ylabel('acceleration')\n",
    "axis[0].set_title('horsepower distribution with KDE')\n",
    "\n",
    "# Plot for horsepower -> acceleration (Y -> X)\n",
    "sns.histplot(df['acceleration'], kde=True, ax=axis[1])\n",
    "axis[1].set_xlabel('acceleration')\n",
    "axis[1].set_ylabel('horsepower')\n",
    "axis[1].set_title('acceleration distribution with KDE')\n",
    "\n",
    "# Adjust layout to set the title and labels\n",
    "plt.tight_layout()\n",
    "plt.show()  "
   ]
  },
  {
   "cell_type": "code",
   "execution_count": null,
   "id": "5ed27644",
   "metadata": {},
   "outputs": [],
   "source": [
    "# Dip-Test for x and y\n",
    "dip_test, p_val = diptest(np.array(df['horsepower']))\n",
    "print(f\"Dip-Test (X -> Y): {dip_test}, p-value: {p_val}\")   \n",
    "dip_test, p_val = diptest(np.array(df['acceleration']))\n",
    "print(f\"Dip-Test (Y -> X): {dip_test}, p-value: {p_val}\")   "
   ]
  },
  {
   "cell_type": "markdown",
   "id": "fb9ed2b4",
   "metadata": {},
   "source": [
    "### Findings:"
   ]
  }
 ],
 "metadata": {
  "language_info": {
   "name": "python"
  }
 },
 "nbformat": 4,
 "nbformat_minor": 5
}
