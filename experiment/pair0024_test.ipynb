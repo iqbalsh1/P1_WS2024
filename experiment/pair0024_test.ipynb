{
 "cells": [
  {
   "cell_type": "markdown",
   "id": "7ae84922",
   "metadata": {},
   "source": [
    "## pair0024: \n",
    "Cardiac Arrhythmia Database"
   ]
  },
  {
   "cell_type": "code",
   "execution_count": null,
   "id": "71d3a1d8",
   "metadata": {},
   "outputs": [],
   "source": [
    "import pandas as pd\n",
    "import seaborn as sns\n",
    "import matplotlib.pyplot as plt\n",
    "import numpy as np\n",
    "from diptest import diptest   "
   ]
  },
  {
   "cell_type": "code",
   "execution_count": null,
   "id": "7481d438",
   "metadata": {},
   "outputs": [],
   "source": [
    "# Load dataset\n",
    "df = pd.read_csv('datasets/pair0024.txt', delimiter=' ', header=None, names=['age', 'heart rate'])    "
   ]
  },
  {
   "cell_type": "code",
   "execution_count": null,
   "id": "55e8de76",
   "metadata": {},
   "outputs": [],
   "source": [
    "# Display few rows of the dataset\n",
    "print(df.head())    "
   ]
  },
  {
   "cell_type": "code",
   "execution_count": null,
   "id": "b1ec0d53",
   "metadata": {},
   "outputs": [],
   "source": [
    "# Scatter Plot\n",
    "plt.scatter(df['age'], df['heart rate'])\n",
    "plt.xlabel('age')\n",
    "plt.ylabel('heart rate')\n",
    "plt.title('Scatter plot of age vs heart rate')\n",
    "plt.show()   "
   ]
  },
  {
   "cell_type": "code",
   "execution_count": null,
   "id": "0769ceaf",
   "metadata": {},
   "outputs": [],
   "source": [
    "# Plot the distribution of the data in both directions (x and y)\n",
    "fig, axis = plt.subplots(1, 2, figsize=(16,6))\n",
    "\n",
    "# Plot for age -> heart rate (X -> Y)\n",
    "sns.histplot(df['age'], kde=True, ax=axis[0])\n",
    "axis[0].set_xlabel('age')\n",
    "axis[0].set_ylabel('heart rate')\n",
    "axis[0].set_title('age distribution with KDE')\n",
    "\n",
    "# Plot for age -> heart rate (Y -> X)\n",
    "sns.histplot(df['heart rate'], kde=True, ax=axis[1])\n",
    "axis[1].set_xlabel('age')\n",
    "axis[1].set_ylabel('heart rate')\n",
    "axis[1].set_title('heart rate distribution with KDE')\n",
    "\n",
    "# Adjust layout to set the title and labels\n",
    "plt.tight_layout()\n",
    "plt.show()   "
   ]
  },
  {
   "cell_type": "code",
   "execution_count": null,
   "id": "311d7a7c",
   "metadata": {},
   "outputs": [],
   "source": [
    "# Dip-Test for x and y\n",
    "dip_test, p_val = diptest(np.array(df['age']))\n",
    "print(f\"Dip-Test (X -> Y): {dip_test}, p-value: {p_val}\")   \n",
    "dip_test, p_val = diptest(np.array(df['heart rate']))\n",
    "print(f\"Dip-Test (Y -> X): {dip_test}, p-value: {p_val}\")\n",
    "    "
   ]
  },
  {
   "cell_type": "markdown",
   "id": "bfdbe126",
   "metadata": {},
   "source": [
    "### Findings:"
   ]
  }
 ],
 "metadata": {
  "language_info": {
   "name": "python"
  }
 },
 "nbformat": 4,
 "nbformat_minor": 5
}
