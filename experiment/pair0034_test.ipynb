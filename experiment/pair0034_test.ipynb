{
 "cells": [
  {
   "cell_type": "markdown",
   "id": "39071338",
   "metadata": {},
   "source": [
    "## pair0034: \n"
   ]
  },
  {
   "cell_type": "code",
   "execution_count": null,
   "id": "20942071",
   "metadata": {},
   "outputs": [],
   "source": [
    "\n",
    "import pandas as pd\n",
    "import seaborn as sns\n",
    "import matplotlib.pyplot as plt\n",
    "import numpy as np\n",
    "from diptest import diptest\n",
    "    "
   ]
  },
  {
   "cell_type": "code",
   "execution_count": null,
   "id": "0c97dc6e",
   "metadata": {},
   "outputs": [],
   "source": [
    "\n",
    "# Load dataset\n",
    "df = pd.read_csv('datasets/pair0034.txt', delimiter=' ', header=None, names=['xa', 'ya'])\n",
    "    "
   ]
  },
  {
   "cell_type": "code",
   "execution_count": null,
   "id": "11dfe785",
   "metadata": {},
   "outputs": [],
   "source": [
    "\n",
    "# Display few rows of the dataset\n",
    "print(df.head())\n",
    "    "
   ]
  },
  {
   "cell_type": "code",
   "execution_count": null,
   "id": "58649db7",
   "metadata": {},
   "outputs": [],
   "source": [
    "\n",
    "# Scatter Plot\n",
    "plt.scatter(df['xa'], df['ya'])\n",
    "plt.xlabel('xa')\n",
    "plt.ylabel('ya')\n",
    "plt.title('Scatter plot of xa vs ya')\n",
    "plt.show()\n",
    "    "
   ]
  },
  {
   "cell_type": "code",
   "execution_count": null,
   "id": "257a87cc",
   "metadata": {},
   "outputs": [],
   "source": [
    "\n",
    "# Plot the distribution of the data in both directions (x and y)\n",
    "fig, axis = plt.subplots(1, 2, figsize=(16,6))\n",
    "\n",
    "# Plot for xa -> ya (X -> Y)\n",
    "sns.histplot(df['xa'], kde=True, ax=axis[0])\n",
    "axis[0].set_xlabel('xa')\n",
    "axis[0].set_ylabel('ya')\n",
    "axis[0].set_title('xa distribution with KDE')\n",
    "\n",
    "# Plot for xa -> ya (Y -> X)\n",
    "sns.histplot(df['ya'], kde=True, ax=axis[1])\n",
    "axis[1].set_xlabel('xa')\n",
    "axis[1].set_ylabel('ya')\n",
    "axis[1].set_title('ya distribution with KDE')\n",
    "\n",
    "# Adjust layout to set the title and labels\n",
    "plt.tight_layout()\n",
    "plt.show()\n",
    "    "
   ]
  },
  {
   "cell_type": "code",
   "execution_count": null,
   "id": "9551dcc3",
   "metadata": {},
   "outputs": [],
   "source": [
    "\n",
    "# Dip-Test for x and y\n",
    "dip_test, p_val = diptest(np.array(df['xa']))\n",
    "print(f\"Dip-Test (X -> Y): {dip_test}, p-value: {p_val}\")   \n",
    "dip_test, p_val = diptest(np.array(df['ya']))\n",
    "print(f\"Dip-Test (Y -> X): {dip_test}, p-value: {p_val}\")\n",
    "    "
   ]
  }
 ],
 "metadata": {},
 "nbformat": 4,
 "nbformat_minor": 5
}
