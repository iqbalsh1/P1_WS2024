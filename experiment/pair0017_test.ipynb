{
 "cells": [
  {
   "cell_type": "markdown",
   "id": "299764ab",
   "metadata": {},
   "source": [
    "## pair0017: \n",
    "Census Income (KDD) dataset: This data set contains weighted census data extracted from the 1994 and 1995\n",
    "current population surveys conducted by the U.S. Census Bureau"
   ]
  },
  {
   "cell_type": "code",
   "execution_count": null,
   "id": "8612c6a1",
   "metadata": {},
   "outputs": [],
   "source": [
    "import pandas as pd\n",
    "import seaborn as sns\n",
    "import matplotlib.pyplot as plt\n",
    "import numpy as np\n",
    "from diptest import diptest  "
   ]
  },
  {
   "cell_type": "code",
   "execution_count": null,
   "id": "1706533a",
   "metadata": {},
   "outputs": [],
   "source": [
    "# Load dataset\n",
    "df = pd.read_csv('datasets/pair0017.txt', delimiter=' ', header=None, names=['age', 'dividends from stock'])"
   ]
  },
  {
   "cell_type": "code",
   "execution_count": null,
   "id": "a2c3bc9c",
   "metadata": {},
   "outputs": [],
   "source": [
    "# Display few rows of the dataset\n",
    "print(df.head())   "
   ]
  },
  {
   "cell_type": "code",
   "execution_count": null,
   "id": "feb349bb",
   "metadata": {},
   "outputs": [],
   "source": [
    "# Scatter Plot\n",
    "plt.scatter(df['age'], df['dividends from stock'])\n",
    "plt.xlabel('age')\n",
    "plt.ylabel('dividends from stock')\n",
    "plt.title('Scatter plot of age vs dividends from stock')\n",
    "plt.show()   "
   ]
  },
  {
   "cell_type": "code",
   "execution_count": null,
   "id": "6542a0ce",
   "metadata": {},
   "outputs": [],
   "source": [
    "# Plot the distribution of the data in both directions (x and y)\n",
    "fig, axis = plt.subplots(1, 2, figsize=(16,6))\n",
    "\n",
    "# Plot for age -> dividends from stock (X -> Y)\n",
    "sns.histplot(df['age'], kde=True, ax=axis[0])\n",
    "axis[0].set_xlabel('age')\n",
    "axis[0].set_ylabel('dividends from stock')\n",
    "axis[0].set_title('age distribution with KDE')\n",
    "\n",
    "# Plot for age -> dividends from stock (Y -> X)\n",
    "sns.histplot(df['dividends from stock'], kde=True, ax=axis[1])\n",
    "axis[1].set_xlabel('dividends from stock')\n",
    "axis[1].set_ylabel('age')\n",
    "axis[1].set_title('dividends from stock distribution with KDE')\n",
    "\n",
    "# Adjust layout to set the title and labels\n",
    "plt.tight_layout()\n",
    "plt.show()"
   ]
  },
  {
   "cell_type": "code",
   "execution_count": null,
   "id": "8a9f9297",
   "metadata": {},
   "outputs": [],
   "source": [
    "# Dip-Test for x and y\n",
    "dip_test, p_val = diptest(np.array(df['age']))\n",
    "print(f\"Dip-Test (X -> Y): {dip_test}, p-value: {p_val}\")   \n",
    "dip_test, p_val = diptest(np.array(df['dividends from stock']))\n",
    "print(f\"Dip-Test (Y -> X): {dip_test}, p-value: {p_val}\")  "
   ]
  },
  {
   "cell_type": "markdown",
   "id": "21aae72c",
   "metadata": {},
   "source": [
    "### Findings:"
   ]
  }
 ],
 "metadata": {
  "language_info": {
   "name": "python"
  }
 },
 "nbformat": 4,
 "nbformat_minor": 5
}
