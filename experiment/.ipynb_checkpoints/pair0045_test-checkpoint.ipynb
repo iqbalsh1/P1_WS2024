{
 "cells": [
  {
   "cell_type": "markdown",
   "id": "8471958c",
   "metadata": {},
   "source": [
    "## pair0045: \n",
    "Mean daily sea level pressure on a 144x73 grid (2.5 degree) of day 50 and day 51 of year 2000.\n"
   ]
  },
  {
   "cell_type": "code",
   "execution_count": null,
   "id": "ab52711b",
   "metadata": {},
   "outputs": [],
   "source": [
    "import pandas as pd\n",
    "import seaborn as sns\n",
    "import matplotlib.pyplot as plt\n",
    "import numpy as np\n",
    "from diptest import diptest   "
   ]
  },
  {
   "cell_type": "code",
   "execution_count": null,
   "id": "ebb27484",
   "metadata": {},
   "outputs": [],
   "source": [
    "# Empty list to store preprocess data\n",
    "preprocess_data = []\n",
    "\n",
    "# Open the dataset and process each line\n",
    "with open('datasets/pair0045.txt', 'r') as file:\n",
    "    for data in file:\n",
    "        # Clean the data by splitting by any whitespace\n",
    "        # Joining them with a single space\n",
    "        # Add each processed row of data to the list --> preprocess_data\n",
    "        processed_data = ' '.join(data.split())\n",
    "        preprocess_data.append(processed_data)  \n",
    "\n",
    "# Split into two columns\n",
    "preprocess_data = [line.split() for line in preprocess_data]\n",
    "\n",
    "# Convert to DataFrame with column names\n",
    "df = pd.DataFrame(preprocess_data, columns=['year 2000, day 50', 'year 2000, day 51'])\n",
    "\n",
    "# Convert to numeric values\n",
    "df['year 2000, day 50'] = pd.to_numeric(df['year 2000, day 50'])\n",
    "df['year 2000, day 51'] = pd.to_numeric(df['year 2000, day 51'])"
   ]
  },
  {
   "cell_type": "code",
   "execution_count": null,
   "id": "83fad6f5",
   "metadata": {},
   "outputs": [],
   "source": [
    "# Display few rows of the dataset\n",
    "print(df.head())"
   ]
  },
  {
   "cell_type": "code",
   "execution_count": null,
   "id": "f50b39f2",
   "metadata": {},
   "outputs": [],
   "source": [
    "# Scatter Plot\n",
    "plt.scatter(df['year 2000, day 50'], df['year 2000, day 51'])\n",
    "plt.xlabel('year 2000, day 50')\n",
    "plt.ylabel('year 2000, day 51')\n",
    "plt.title('Scatter plot of year 2000, day 50 vs year 2000, day 51')\n",
    "plt.show()"
   ]
  },
  {
   "cell_type": "code",
   "execution_count": null,
   "id": "47bd4718",
   "metadata": {},
   "outputs": [],
   "source": [
    "# Plot the distribution of the data in both directions (x and y)\n",
    "fig, axis = plt.subplots(1, 2, figsize=(16,6))\n",
    "\n",
    "# Plot for year 2000, day 50 -> year 2000, day 51 (X -> Y)\n",
    "sns.histplot(df['year 2000, day 50'], kde=True, ax=axis[0])\n",
    "axis[0].set_xlabel('year 2000, day 50')\n",
    "axis[0].set_ylabel('year 2000, day 51')\n",
    "axis[0].set_title('year 2000, day 50 distribution with KDE')\n",
    "\n",
    "# Plot for year 2000, day 51 -> year 2000, day 50 (Y -> X)\n",
    "sns.histplot(df['year 2000, day 51'], kde=True, ax=axis[1])\n",
    "axis[1].set_xlabel('year 2000, day 51')\n",
    "axis[1].set_ylabel('year 2000, day 50')\n",
    "axis[1].set_title('year 2000, day 51 distribution with KDE')\n",
    "\n",
    "# Adjust layout to set the title and labels\n",
    "plt.tight_layout()\n",
    "plt.show()  "
   ]
  },
  {
   "cell_type": "code",
   "execution_count": null,
   "id": "dacb9546",
   "metadata": {},
   "outputs": [],
   "source": [
    "# Dip-Test for x and y\n",
    "dip_test, p_val = diptest(np.array(df['year 2000, day 50']))\n",
    "print(f\"Dip-Test (X → Y): {dip_test}, p-value: {p_val}\")   \n",
    "dip_test, p_val = diptest(np.array(df['year 2000, day 51']))\n",
    "print(f\"Dip-Test (Y → X): {dip_test}, p-value: {p_val}\")\n",
    "    "
   ]
  },
  {
   "cell_type": "markdown",
   "id": "697cce40",
   "metadata": {},
   "source": [
    "### Findings:\n",
    "- The ground truth relationship is X → Y\n",
    "- The dip test results suggest that the distribution of X → Y is likely **m/u**, supported by a low/high p-value 0.\n",
    "- While the distribution of Y → X direction is **u/m**, supported by a high/low p-value 0.."
   ]
  }
 ],
 "metadata": {
  "language_info": {
   "name": "python"
  }
 },
 "nbformat": 4,
 "nbformat_minor": 5
}
