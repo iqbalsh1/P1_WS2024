{
 "cells": [
  {
   "cell_type": "markdown",
   "id": "d9ad3aef",
   "metadata": {},
   "source": [
    "## pair0015: \n",
    "Auto-Mpg Data: city-cycle fuel consumption in miles per gallon\n"
   ]
  },
  {
   "cell_type": "code",
   "execution_count": null,
   "id": "7eb00431",
   "metadata": {},
   "outputs": [],
   "source": [
    "import pandas as pd\n",
    "import seaborn as sns\n",
    "import matplotlib.pyplot as plt\n",
    "import numpy as np\n",
    "from diptest import diptest\n",
    "    "
   ]
  },
  {
   "cell_type": "code",
   "execution_count": null,
   "id": "fb3b5990",
   "metadata": {},
   "outputs": [],
   "source": [
    "# Load dataset\n",
    "df = pd.read_csv('datasets/pair0015.txt', delimiter=' ', header=None, names=['mpg', 'weight'])    "
   ]
  },
  {
   "cell_type": "code",
   "execution_count": null,
   "id": "6f7199a5",
   "metadata": {},
   "outputs": [],
   "source": [
    "# Display few rows of the dataset\n",
    "print(df.head())"
   ]
  },
  {
   "cell_type": "code",
   "execution_count": null,
   "id": "f0379268",
   "metadata": {},
   "outputs": [],
   "source": [
    "# Scatter Plot\n",
    "plt.scatter(df['mpg'], df['weight'])\n",
    "plt.xlabel('mpg')\n",
    "plt.ylabel('weight')\n",
    "plt.title('Scatter plot of mpg vs weight')\n",
    "plt.show()"
   ]
  },
  {
   "cell_type": "code",
   "execution_count": null,
   "id": "78de6963",
   "metadata": {},
   "outputs": [],
   "source": [
    "# Plot the distribution of the data in both directions (x and y)\n",
    "fig, axis = plt.subplots(1, 2, figsize=(16,6))\n",
    "\n",
    "# Plot for mpg -> weight (X -> Y)\n",
    "sns.histplot(df['mpg'], kde=True, ax=axis[0])\n",
    "axis[0].set_xlabel('mpg')\n",
    "axis[0].set_ylabel('weight')\n",
    "axis[0].set_title('mpg distribution with KDE')\n",
    "\n",
    "# Plot for mpg -> weight (Y -> X)\n",
    "sns.histplot(df['weight'], kde=True, ax=axis[1])\n",
    "axis[1].set_xlabel('weight')\n",
    "axis[1].set_ylabel('mpg')\n",
    "axis[1].set_title('weight distribution with KDE')\n",
    "\n",
    "# Adjust layout to set the title and labels\n",
    "plt.tight_layout()\n",
    "plt.show()   "
   ]
  },
  {
   "cell_type": "code",
   "execution_count": null,
   "id": "f07dd41f",
   "metadata": {},
   "outputs": [],
   "source": [
    "# Dip-Test for x and y\n",
    "dip_test, p_val = diptest(np.array(df['mpg']))\n",
    "print(f\"Dip-Test (X -> Y): {dip_test}, p-value: {p_val}\")   \n",
    "dip_test, p_val = diptest(np.array(df['weight']))\n",
    "print(f\"Dip-Test (Y -> X): {dip_test}, p-value: {p_val}\")\n",
    "    "
   ]
  },
  {
   "cell_type": "markdown",
   "id": "8c3822a7",
   "metadata": {},
   "source": [
    "### Findings:"
   ]
  }
 ],
 "metadata": {
  "language_info": {
   "name": "python"
  }
 },
 "nbformat": 4,
 "nbformat_minor": 5
}
