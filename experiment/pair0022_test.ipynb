{
 "cells": [
  {
   "cell_type": "markdown",
   "id": "1a7b81eb",
   "metadata": {},
   "source": [
    "## pair0022: \n",
    "Cardiac Arrhythmia Database\n",
    "Number of Instances: 452"
   ]
  },
  {
   "cell_type": "code",
   "execution_count": null,
   "id": "9560bcc3",
   "metadata": {},
   "outputs": [],
   "source": [
    "import pandas as pd\n",
    "import seaborn as sns\n",
    "import matplotlib.pyplot as plt\n",
    "import numpy as np\n",
    "from diptest import diptest    "
   ]
  },
  {
   "cell_type": "code",
   "execution_count": null,
   "id": "2d5e9d32",
   "metadata": {},
   "outputs": [],
   "source": [
    "# Load dataset\n",
    "df = pd.read_csv('datasets/pair0022.txt', delimiter=' ', header=None, names=['age', 'height'])    "
   ]
  },
  {
   "cell_type": "code",
   "execution_count": null,
   "id": "500aacec",
   "metadata": {},
   "outputs": [],
   "source": [
    "# Display few rows of the dataset\n",
    "print(df.head())  "
   ]
  },
  {
   "cell_type": "code",
   "execution_count": null,
   "id": "4a25cecd",
   "metadata": {},
   "outputs": [],
   "source": [
    "# Scatter Plot\n",
    "plt.scatter(df['age'], df['height'])\n",
    "plt.xlabel('age')\n",
    "plt.ylabel('height')\n",
    "plt.title('Scatter plot of age vs height')\n",
    "plt.show()  "
   ]
  },
  {
   "cell_type": "code",
   "execution_count": null,
   "id": "08ad9488",
   "metadata": {},
   "outputs": [],
   "source": [
    "# Plot the distribution of the data in both directions (x and y)\n",
    "fig, axis = plt.subplots(1, 2, figsize=(16,6))\n",
    "\n",
    "# Plot for age -> height (X -> Y)\n",
    "sns.histplot(df['age'], kde=True, ax=axis[0])\n",
    "axis[0].set_xlabel('age')\n",
    "axis[0].set_ylabel('height')\n",
    "axis[0].set_title('age distribution with KDE')\n",
    "\n",
    "# Plot for age -> height (Y -> X)\n",
    "sns.histplot(df['height'], kde=True, ax=axis[1])\n",
    "axis[1].set_xlabel('height')\n",
    "axis[1].set_ylabel('age')\n",
    "axis[1].set_title('height distribution with KDE')\n",
    "\n",
    "# Adjust layout to set the title and labels\n",
    "plt.tight_layout()\n",
    "plt.show()"
   ]
  },
  {
   "cell_type": "code",
   "execution_count": null,
   "id": "41b55bef",
   "metadata": {},
   "outputs": [],
   "source": [
    "# Dip-Test for x and y\n",
    "dip_test, p_val = diptest(np.array(df['age']))\n",
    "print(f\"Dip-Test (X -> Y): {dip_test}, p-value: {p_val}\")   \n",
    "dip_test, p_val = diptest(np.array(df['height']))\n",
    "print(f\"Dip-Test (Y -> X): {dip_test}, p-value: {p_val}\")\n",
    "    "
   ]
  },
  {
   "cell_type": "markdown",
   "id": "b3efafdb",
   "metadata": {},
   "source": [
    "### Findings:"
   ]
  }
 ],
 "metadata": {
  "language_info": {
   "name": "python"
  }
 },
 "nbformat": 4,
 "nbformat_minor": 5
}
