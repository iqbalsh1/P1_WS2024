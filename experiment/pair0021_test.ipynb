{
 "cells": [
  {
   "cell_type": "markdown",
   "id": "72d90626",
   "metadata": {},
   "source": [
    "## pair0021: \n",
    "\n",
    "DWD data (Deutscher Wetterdienst): data was taken at 349 stations\n"
   ]
  },
  {
   "cell_type": "code",
   "execution_count": null,
   "id": "963c857f",
   "metadata": {},
   "outputs": [],
   "source": [
    "import pandas as pd\n",
    "import seaborn as sns\n",
    "import matplotlib.pyplot as plt\n",
    "import numpy as np\n",
    "from diptest import diptest    "
   ]
  },
  {
   "cell_type": "code",
   "execution_count": null,
   "id": "64b5ac66",
   "metadata": {},
   "outputs": [],
   "source": [
    "# Load dataset\n",
    "df = pd.read_csv('datasets/pair0021.txt', delimiter=' ', header=None, names=['longitude', 'precipitation'])    "
   ]
  },
  {
   "cell_type": "code",
   "execution_count": null,
   "id": "535ec234",
   "metadata": {},
   "outputs": [],
   "source": [
    "# Display few rows of the dataset\n",
    "print(df.head())    "
   ]
  },
  {
   "cell_type": "code",
   "execution_count": null,
   "id": "92a88fdc",
   "metadata": {},
   "outputs": [],
   "source": [
    "# Scatter Plot\n",
    "plt.scatter(df['longitude'], df['precipitation'])\n",
    "plt.xlabel('longitude')\n",
    "plt.ylabel('precipitation')\n",
    "plt.title('Scatter plot of longitude vs precipitation')\n",
    "plt.show()\n",
    "    "
   ]
  },
  {
   "cell_type": "code",
   "execution_count": null,
   "id": "71d813d7",
   "metadata": {},
   "outputs": [],
   "source": [
    "# Plot the distribution of the data in both directions (x and y)\n",
    "fig, axis = plt.subplots(1, 2, figsize=(16,6))\n",
    "\n",
    "# Plot for longitude -> precipitation (X -> Y)\n",
    "sns.histplot(df['longitude'], kde=True, ax=axis[0])\n",
    "axis[0].set_xlabel('longitude')\n",
    "axis[0].set_ylabel('precipitation')\n",
    "axis[0].set_title('longitude distribution with KDE')\n",
    "\n",
    "# Plot for longitude -> precipitation (Y -> X)\n",
    "sns.histplot(df['precipitation'], kde=True, ax=axis[1])\n",
    "axis[1].set_xlabel('precipitation')\n",
    "axis[1].set_ylabel('longitude')\n",
    "axis[1].set_title('precipitation distribution with KDE')\n",
    "\n",
    "# Adjust layout to set the title and labels\n",
    "plt.tight_layout()\n",
    "plt.show()\n",
    "    "
   ]
  },
  {
   "cell_type": "code",
   "execution_count": null,
   "id": "5ca2aba8",
   "metadata": {},
   "outputs": [],
   "source": [
    "# Dip-Test for x and y\n",
    "dip_test, p_val = diptest(np.array(df['longitude']))\n",
    "print(f\"Dip-Test (X -> Y): {dip_test}, p-value: {p_val}\")   \n",
    "dip_test, p_val = diptest(np.array(df['precipitation']))\n",
    "print(f\"Dip-Test (Y -> X): {dip_test}, p-value: {p_val}\")\n",
    "    "
   ]
  },
  {
   "cell_type": "markdown",
   "id": "1c7091a0",
   "metadata": {},
   "source": [
    "### Findings:"
   ]
  }
 ],
 "metadata": {
  "language_info": {
   "name": "python"
  }
 },
 "nbformat": 4,
 "nbformat_minor": 5
}
