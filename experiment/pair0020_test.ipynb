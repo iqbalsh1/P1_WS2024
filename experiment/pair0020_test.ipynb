{
 "cells": [
  {
   "cell_type": "markdown",
   "id": "87dca98c",
   "metadata": {},
   "source": [
    "## pair0020: \n",
    "DWD data (Deutscher Wetterdienst): data was taken at 349 stations\n"
   ]
  },
  {
   "cell_type": "code",
   "execution_count": null,
   "id": "06ded4da",
   "metadata": {},
   "outputs": [],
   "source": [
    "import pandas as pd\n",
    "import seaborn as sns\n",
    "import matplotlib.pyplot as plt\n",
    "import numpy as np\n",
    "from diptest import diptest   "
   ]
  },
  {
   "cell_type": "code",
   "execution_count": null,
   "id": "663a153c",
   "metadata": {},
   "outputs": [],
   "source": [
    "# Load dataset\n",
    "df = pd.read_csv('datasets/pair0020.txt', delimiter=' ', header=None, names=['latitude', 'temperature'])    "
   ]
  },
  {
   "cell_type": "code",
   "execution_count": null,
   "id": "e8b591dd",
   "metadata": {},
   "outputs": [],
   "source": [
    "# Display few rows of the dataset\n",
    "print(df.head())   "
   ]
  },
  {
   "cell_type": "code",
   "execution_count": null,
   "id": "c27f77ea",
   "metadata": {},
   "outputs": [],
   "source": [
    "# Scatter Plot\n",
    "plt.scatter(df['latitude'], df['temperature'])\n",
    "plt.xlabel('latitude')\n",
    "plt.ylabel('temperature')\n",
    "plt.title('Scatter plot of latitude vs temperature')\n",
    "plt.show()   "
   ]
  },
  {
   "cell_type": "code",
   "execution_count": null,
   "id": "02a12983",
   "metadata": {},
   "outputs": [],
   "source": [
    "# Plot the distribution of the data in both directions (x and y)\n",
    "fig, axis = plt.subplots(1, 2, figsize=(16,6))\n",
    "\n",
    "# Plot for latitude -> temperature (X -> Y)\n",
    "sns.histplot(df['latitude'], kde=True, ax=axis[0])\n",
    "axis[0].set_xlabel('latitude')\n",
    "axis[0].set_ylabel('temperature')\n",
    "axis[0].set_title('latitude distribution with KDE')\n",
    "\n",
    "# Plot for latitude -> temperature (Y -> X)\n",
    "sns.histplot(df['temperature'], kde=True, ax=axis[1])\n",
    "axis[1].set_xlabel('temperature')\n",
    "axis[1].set_ylabel('latitude')\n",
    "axis[1].set_title('temperature distribution with KDE')\n",
    "\n",
    "# Adjust layout to set the title and labels\n",
    "plt.tight_layout()\n",
    "plt.show()   "
   ]
  },
  {
   "cell_type": "code",
   "execution_count": null,
   "id": "20e98dbb",
   "metadata": {},
   "outputs": [],
   "source": [
    "# Dip-Test for x and y\n",
    "dip_test, p_val = diptest(np.array(df['latitude']))\n",
    "print(f\"Dip-Test (X -> Y): {dip_test}, p-value: {p_val}\")   \n",
    "dip_test, p_val = diptest(np.array(df['temperature']))\n",
    "print(f\"Dip-Test (Y -> X): {dip_test}, p-value: {p_val}\")   "
   ]
  },
  {
   "cell_type": "markdown",
   "id": "b78b0e27",
   "metadata": {},
   "source": [
    "### Findings:"
   ]
  }
 ],
 "metadata": {
  "language_info": {
   "name": "python"
  }
 },
 "nbformat": 4,
 "nbformat_minor": 5
}
