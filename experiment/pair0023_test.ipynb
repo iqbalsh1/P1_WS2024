{
 "cells": [
  {
   "cell_type": "markdown",
   "id": "d3ac472d",
   "metadata": {},
   "source": [
    "## pair0023: \n",
    "Cardiac Arrhythmia Database\n",
    "Number of Instances: 452"
   ]
  },
  {
   "cell_type": "code",
   "execution_count": null,
   "id": "621e52e3",
   "metadata": {},
   "outputs": [],
   "source": [
    "import pandas as pd\n",
    "import seaborn as sns\n",
    "import matplotlib.pyplot as plt\n",
    "import numpy as np\n",
    "from diptest import diptest    "
   ]
  },
  {
   "cell_type": "code",
   "execution_count": null,
   "id": "31f02509",
   "metadata": {},
   "outputs": [],
   "source": [
    "# Load dataset\n",
    "df = pd.read_csv('datasets/pair0023.txt', delimiter=' ', header=None, names=['age', 'height'])    "
   ]
  },
  {
   "cell_type": "code",
   "execution_count": null,
   "id": "57858070",
   "metadata": {},
   "outputs": [],
   "source": [
    "# Display few rows of the dataset\n",
    "print(df.head())   "
   ]
  },
  {
   "cell_type": "code",
   "execution_count": null,
   "id": "3cab41e8",
   "metadata": {},
   "outputs": [],
   "source": [
    "# Scatter Plot\n",
    "plt.scatter(df['age'], df['height'])\n",
    "plt.xlabel('age')\n",
    "plt.ylabel('height')\n",
    "plt.title('Scatter plot of age vs height')\n",
    "plt.show()   "
   ]
  },
  {
   "cell_type": "code",
   "execution_count": null,
   "id": "22b1428b",
   "metadata": {},
   "outputs": [],
   "source": [
    "# Plot the distribution of the data in both directions (x and y)\n",
    "fig, axis = plt.subplots(1, 2, figsize=(16,6))\n",
    "\n",
    "# Plot for age -> height (X -> Y)\n",
    "sns.histplot(df['age'], kde=True, ax=axis[0])\n",
    "axis[0].set_xlabel('age')\n",
    "axis[0].set_ylabel('height')\n",
    "axis[0].set_title('age distribution with KDE')\n",
    "\n",
    "# Plot for age -> ya (Y -> X)\n",
    "sns.histplot(df['ya'], kde=True, ax=axis[1])\n",
    "axis[1].set_xlabel('age')\n",
    "axis[1].set_ylabel('ya')\n",
    "axis[1].set_title('ya distribution with KDE')\n",
    "\n",
    "# Adjust layout to set the title and labels\n",
    "plt.tight_layout()\n",
    "plt.show()   "
   ]
  },
  {
   "cell_type": "code",
   "execution_count": null,
   "id": "4eea805d",
   "metadata": {},
   "outputs": [],
   "source": [
    "# Dip-Test for x and y\n",
    "dip_test, p_val = diptest(np.array(df['age']))\n",
    "print(f\"Dip-Test (X -> Y): {dip_test}, p-value: {p_val}\")   \n",
    "dip_test, p_val = diptest(np.array(df['ya']))\n",
    "print(f\"Dip-Test (Y -> X): {dip_test}, p-value: {p_val}\")    "
   ]
  },
  {
   "cell_type": "markdown",
   "id": "cc598e3c",
   "metadata": {},
   "source": [
    "### Findings:"
   ]
  }
 ],
 "metadata": {
  "language_info": {
   "name": "python"
  }
 },
 "nbformat": 4,
 "nbformat_minor": 5
}
