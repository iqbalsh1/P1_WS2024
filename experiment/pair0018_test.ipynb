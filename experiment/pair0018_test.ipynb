{
 "cells": [
  {
   "cell_type": "markdown",
   "id": "31d68c55",
   "metadata": {},
   "source": [
    "## pair0018: \n",
    "Data were collected on the concentration of a chemical GAG in the urine of 314 children aged from zero to seventeen years. The aim of the study was to produce a chart to help a paediatrican to assess if a child's GAG concentration is ‘normal’.\n"
   ]
  },
  {
   "cell_type": "code",
   "execution_count": null,
   "id": "02bf8f12",
   "metadata": {},
   "outputs": [],
   "source": [
    "import pandas as pd\n",
    "import seaborn as sns\n",
    "import matplotlib.pyplot as plt\n",
    "import numpy as np\n",
    "from diptest import diptest"
   ]
  },
  {
   "cell_type": "code",
   "execution_count": null,
   "id": "da68b056",
   "metadata": {},
   "outputs": [],
   "source": [
    "# Load dataset\n",
    "df = pd.read_csv('datasets/pair0018.txt', delimiter=' ', header=None, names=['age', 'concentration of GAG'])"
   ]
  },
  {
   "cell_type": "code",
   "execution_count": null,
   "id": "eb96dfc6",
   "metadata": {},
   "outputs": [],
   "source": [
    "# Display few rows of the dataset\n",
    "print(df.head())    "
   ]
  },
  {
   "cell_type": "code",
   "execution_count": null,
   "id": "b055dc89",
   "metadata": {},
   "outputs": [],
   "source": [
    "# Scatter Plot\n",
    "plt.scatter(df['age'], df['concentration of GAG'])\n",
    "plt.xlabel('age')\n",
    "plt.ylabel('concentration of GAG')\n",
    "plt.title('Scatter plot of age vs concentration of GAG')\n",
    "plt.show()    "
   ]
  },
  {
   "cell_type": "code",
   "execution_count": null,
   "id": "b49536c4",
   "metadata": {},
   "outputs": [],
   "source": [
    "# Plot the distribution of the data in both directions (x and y)\n",
    "fig, axis = plt.subplots(1, 2, figsize=(16,6))\n",
    "\n",
    "# Plot for age -> concentration of GAG (X -> Y)\n",
    "sns.histplot(df['age'], kde=True, ax=axis[0])\n",
    "axis[0].set_xlabel('age')\n",
    "axis[0].set_ylabel('concentration of GAG')\n",
    "axis[0].set_title('age distribution with KDE')\n",
    "\n",
    "# Plot for age -> concentration of GAG (Y -> X)\n",
    "sns.histplot(df['concentration of GAG'], kde=True, ax=axis[1])\n",
    "axis[1].set_xlabel('concentration of GAG')\n",
    "axis[1].set_ylabel('age')\n",
    "axis[1].set_title('concentration of GAG distribution with KDE')\n",
    "\n",
    "# Adjust layout to set the title and labels\n",
    "plt.tight_layout()\n",
    "plt.show()   "
   ]
  },
  {
   "cell_type": "code",
   "execution_count": null,
   "id": "77c36a8d",
   "metadata": {},
   "outputs": [],
   "source": [
    "# Dip-Test for x and y\n",
    "dip_test, p_val = diptest(np.array(df['age']))\n",
    "print(f\"Dip-Test (X -> Y): {dip_test}, p-value: {p_val}\")   \n",
    "dip_test, p_val = diptest(np.array(df['concentration of GAG']))\n",
    "print(f\"Dip-Test (Y -> X): {dip_test}, p-value: {p_val}\")    "
   ]
  },
  {
   "cell_type": "markdown",
   "id": "1f5a6391",
   "metadata": {},
   "source": [
    "### Findings:"
   ]
  }
 ],
 "metadata": {
  "language_info": {
   "name": "python"
  }
 },
 "nbformat": 4,
 "nbformat_minor": 5
}
